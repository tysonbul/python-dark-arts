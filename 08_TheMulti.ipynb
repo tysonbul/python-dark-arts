{
 "cells": [
  {
   "cell_type": "markdown",
   "id": "97837a99-2dfe-427d-b67d-1c9de79fc72d",
   "metadata": {},
   "source": [
    "# The multiverse... or should I say multi-threaded-verse??\n",
    "\n",
    "\n",
    "## Find out what happens next time on Are You Writing Effective Python pt.2!! Coming 2023..."
   ]
  },
  {
   "cell_type": "code",
   "execution_count": null,
   "id": "2895d7b0-b8cf-457c-9a53-6c1081d1ecd8",
   "metadata": {},
   "outputs": [],
   "source": []
  }
 ],
 "metadata": {
  "kernelspec": {
   "display_name": "Python 3 (ipykernel)",
   "language": "python",
   "name": "python3"
  },
  "language_info": {
   "codemirror_mode": {
    "name": "ipython",
    "version": 3
   },
   "file_extension": ".py",
   "mimetype": "text/x-python",
   "name": "python",
   "nbconvert_exporter": "python",
   "pygments_lexer": "ipython3",
   "version": "3.8.13"
  }
 },
 "nbformat": 4,
 "nbformat_minor": 5
}
