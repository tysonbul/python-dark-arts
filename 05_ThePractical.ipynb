{
 "cells": [
  {
   "cell_type": "markdown",
   "id": "314bd104-9187-4ecb-acf8-4b896b553bc5",
   "metadata": {},
   "source": [
    "# Practical Python in Practice for Purposes of Proficient Programming\n",
    "\n",
    "These tips will be more practical than the title I promise... :D \n"
   ]
  },
  {
   "cell_type": "markdown",
   "id": "17bf8be5-0cda-435b-8ec9-5bcf0bbbee39",
   "metadata": {},
   "source": [
    "### We all know and love optional arguments\n",
    "\n",
    "Optional arguments are a great way to extend functionality while not having to update calling code in a million places. Take this simple divide method."
   ]
  },
  {
   "cell_type": "code",
   "execution_count": 24,
   "id": "15f32713-c27f-4415-a479-302f7e318a9a",
   "metadata": {},
   "outputs": [
    {
     "name": "stdout",
     "output_type": "stream",
     "text": [
      "1\n",
      "Nice!\n"
     ]
    }
   ],
   "source": [
    "import math\n",
    "def simple_divide(numerator, denominator, as_int=False):\n",
    "    result = numerator / denominator\n",
    "    \n",
    "    if as_int:\n",
    "        result = math.floor(result)\n",
    "    return result\n",
    "\n",
    "print(simple_divide(4,4, True))\n",
    "print(\"Nice!\")"
   ]
  },
  {
   "cell_type": "markdown",
   "id": "7a676760-742e-484f-a087-aba1b9c8fa6b",
   "metadata": {},
   "source": [
    "And sometimes simple becomes a bit more complicated."
   ]
  },
  {
   "cell_type": "code",
   "execution_count": 12,
   "id": "844764c7-6de3-48c6-a0b7-5be60e239f6e",
   "metadata": {},
   "outputs": [
    {
     "data": {
      "text/plain": [
       "3.3333333333333335"
      ]
     },
     "execution_count": 12,
     "metadata": {},
     "output_type": "execute_result"
    }
   ],
   "source": [
    "def complex_divide(numerator, denominator, precision=4, as_int=False, ignore_div_by_zero=False):\n",
    "    try:\n",
    "        result = numerator / denominator\n",
    "    except ZeroDivisionError:\n",
    "        if ignore_div_by_zero:\n",
    "            return float('inf')\n",
    "        else:\n",
    "            raise\n",
    "    \n",
    "    if as_int:\n",
    "        result = math.floor(result)\n",
    "    result = round(result, precision)\n",
    "    return result\n",
    "\n",
    "complex_divide(10, 3, 9, False, ignore_div_by_zero=True)"
   ]
  },
  {
   "cell_type": "markdown",
   "id": "a6bc44f1-465c-46ff-8ec9-deb89b6ba45f",
   "metadata": {},
   "source": [
    "We see here now the caller has many options of calling the method, which can possibly make it less maintainable. (What happens if we switch the order of the keyword arguments?)\n",
    "\n",
    "How can we help callers of our code keep their use somewhat readable so that we can continue to add flags?\n",
    "We the solution most of us might know is to use Keyword-Only arguments!"
   ]
  },
  {
   "cell_type": "code",
   "execution_count": 25,
   "id": "3f771c32-210d-43d6-a1c5-85a07c402e5d",
   "metadata": {},
   "outputs": [
    {
     "name": "stdout",
     "output_type": "stream",
     "text": [
      "3.3333\n"
     ]
    }
   ],
   "source": [
    "def better_complex_divide(numerator, denominator, *, precision=4, as_int=False, ignore_div_by_zero=False):\n",
    "    \"\"\" Note the '*' added in the arguments. This forces all following fields to be passed by keyword\"\"\"\n",
    "    try:\n",
    "        result = numerator / denominator\n",
    "    except ZeroDivisionError:\n",
    "        if ignore_div_by_zero:\n",
    "            return float('inf')\n",
    "        else:\n",
    "            raise\n",
    "    \n",
    "    if as_int:\n",
    "        result = math.floor(result)\n",
    "    result = round(result, precision)\n",
    "    return result\n",
    "\n",
    "print(better_complex_divide(10, 3, precision=4, ignore_div_by_zero=True))"
   ]
  },
  {
   "cell_type": "markdown",
   "id": "02441058-b50f-4515-ac93-6161eaedf4c3",
   "metadata": {},
   "source": [
    "We can even take this a step further\n",
    "\n",
    "Introduced in Python 3.8: Positional-only arguments"
   ]
  },
  {
   "cell_type": "code",
   "execution_count": 26,
   "id": "c79a3915-f280-481a-a0c2-2bfc61947fb3",
   "metadata": {},
   "outputs": [
    {
     "name": "stdout",
     "output_type": "stream",
     "text": [
      "3.3333\n",
      "3\n"
     ]
    }
   ],
   "source": [
    "def best_complex_divide(numerator, denominator, /, precision=4, *, as_int=False, ignore_div_by_zero=False):\n",
    "    try:\n",
    "        result = numerator / denominator\n",
    "    except ZeroDivisionError:\n",
    "        if ignore_div_by_zero:\n",
    "            return float('inf')\n",
    "        else:\n",
    "            raise\n",
    "    \n",
    "    if as_int:\n",
    "        result = math.floor(result)\n",
    "    result = round(result, precision)\n",
    "    return result\n",
    "\n",
    "print(best_complex_divide(10, 3, precision=4, ignore_div_by_zero=True))\n",
    "print(best_complex_divide(10, 3, 4, as_int=True))"
   ]
  },
  {
   "cell_type": "markdown",
   "id": "89c245de-d083-4ec3-a35c-cc625a3f5e95",
   "metadata": {},
   "source": [
    "### Practicality is the key to Comprehension\n",
    "\n",
    "First off I want to start by echoing Item 27: \"Use Comprehensions instead of map and filter\""
   ]
  },
  {
   "cell_type": "code",
   "execution_count": 31,
   "id": "4374889a-d37c-4475-8039-84eb1e0d2b46",
   "metadata": {},
   "outputs": [
    {
     "name": "stdout",
     "output_type": "stream",
     "text": [
      "[4, 8, 12]\n",
      "[4, 8, 12]\n"
     ]
    }
   ],
   "source": [
    "my_list = [1,2,3,4,5,6]\n",
    "\n",
    "doubled_evens_list_with_map = list(map(lambda x: x*2, filter(lambda x: x % 2 == 0, my_list))) # Yucky!! :/\n",
    "doubled_evens_list_with_cmp = [item * 2 for item in my_list if item % 2 == 0] # Yummy!\n",
    "\n",
    "print(doubled_evens_list_with_map)\n",
    "print(doubled_evens_list_with_cmp)"
   ]
  },
  {
   "cell_type": "markdown",
   "id": "a4997b4f-ffb5-4756-bcea-32892ea81c3a",
   "metadata": {},
   "source": [
    "However!!\n",
    "Don't use more than two control expressions in a comprehension, just break it into a regular for loop. No one is going to enjoy trying to parse a large comprhension."
   ]
  },
  {
   "cell_type": "markdown",
   "id": "047677d6-b28c-47e8-a79f-42e780270770",
   "metadata": {},
   "source": [
    "Something even more interesting that comes with Python 3.8 is when you mix assignment expressions (also known as: the walrus operator `:=`) you can leak variables from your comphrension."
   ]
  },
  {
   "cell_type": "code",
   "execution_count": 38,
   "id": "607bdb78-ee84-434c-8f53-1841dd4efba2",
   "metadata": {},
   "outputs": [
    {
     "name": "stdout",
     "output_type": "stream",
     "text": [
      "{'screws': 4, 'wingnuts': 1}\n",
      "{'screws': 4, 'wingnuts': 1}\n"
     ]
    }
   ],
   "source": [
    "stock = {\"nails\": 125, \"screws\": 35, \"wingnuts\": 8, \"washers\": 24}\n",
    "order = [\"screws\", \"wingnuts\", \"clips\"]\n",
    "def get_batches(count, size):\n",
    "    return count // size\n",
    "\n",
    "redundant_found = {name: get_batches(stock.get(name, 0), 8) for name in order if get_batches(stock.get(name, 0), 8)}\n",
    "print(redundant_found)\n",
    "\n",
    "efficient_found = {name: batches for name in order if (batches := get_batches(stock.get(name, 0), 8))}\n",
    "print(efficient_found)"
   ]
  },
  {
   "cell_type": "markdown",
   "id": "6d1e99a2-0ddc-4f15-94da-acc9c01d6715",
   "metadata": {},
   "source": [
    "### Even generators can be Comprehendible!\n",
    "\n",
    "Condsider generator comprehension expressions for large lazy comprehensions.\n",
    "\n",
    "We all know generators are really useful for being memory efficient ways to iterate items, they even have their own comprehension syntax!"
   ]
  },
  {
   "cell_type": "code",
   "execution_count": 39,
   "id": "5cf0c0e4-5678-464d-90a8-c1fb40243e7b",
   "metadata": {},
   "outputs": [
    {
     "data": {
      "text/plain": [
       "<generator object <genexpr> at 0x7fb1b8bd79e0>"
      ]
     },
     "execution_count": 39,
     "metadata": {},
     "output_type": "execute_result"
    }
   ],
   "source": [
    "it = (len(x) for x in open(\"my_large_file.txt\"))\n",
    "it"
   ]
  },
  {
   "cell_type": "markdown",
   "id": "69e3e51e-5dfb-455c-beb8-784cce67c3e9",
   "metadata": {},
   "source": [
    "Generators are cool and memory efficient\n",
    "But be defensive when working with them"
   ]
  },
  {
   "cell_type": "markdown",
   "id": "825f8e38-13ff-4116-890d-8f621e7fc4b9",
   "metadata": {},
   "source": [
    "### However, Buyer Beware\n",
    "\n",
    "Generators themselves can cause a little trouble if not careful.\n",
    "Take the following example of a perfectly normal function one may see in their day to day..."
   ]
  },
  {
   "cell_type": "code",
   "execution_count": 44,
   "id": "adaecdd6-2734-4bd8-bd46-dc3e8d57ad5d",
   "metadata": {},
   "outputs": [
    {
     "data": {
      "text/plain": [
       "[]"
      ]
     },
     "execution_count": 44,
     "metadata": {},
     "output_type": "execute_result"
    }
   ],
   "source": [
    "def normalize(iterable):\n",
    "    total = sum(iterable)\n",
    "    result = []\n",
    "    for v in iterable:\n",
    "        percent = v / total\n",
    "        result.append(percent)\n",
    "    return result\n",
    "\n",
    "def my_iter(total):\n",
    "    for i in range(total):\n",
    "        yield i\n",
    "    \n",
    "normalize(my_iter(10))"
   ]
  },
  {
   "cell_type": "markdown",
   "id": "8b90d309-84c7-4f99-8273-29af2b03b7d4",
   "metadata": {},
   "source": [
    "Why doesn't this work? \n",
    "Well, generators get \"exhausted\" once looped over.\n",
    "E.g `sum(iterable)` exhausted the iterable then the `for` loop had nothing remaining to iterate over."
   ]
  },
  {
   "cell_type": "code",
   "execution_count": 45,
   "id": "cb5f80ca-1733-4cfc-8f47-870e71fbdcc6",
   "metadata": {},
   "outputs": [
    {
     "name": "stdout",
     "output_type": "stream",
     "text": [
      "[0, 1, 2, 3, 4, 5, 6, 7, 8, 9]\n",
      "[]\n"
     ]
    }
   ],
   "source": [
    "iterable = my_iter(10)\n",
    "print(list(iterable))\n",
    "print(list(iterable))"
   ]
  },
  {
   "cell_type": "markdown",
   "id": "2dd26be5-e3d5-4517-86d4-4afff1e99cf4",
   "metadata": {},
   "source": [
    "### Be defensive when creating generators\n",
    "\n",
    "By creating a class that defines the `__iter__` method!"
   ]
  },
  {
   "cell_type": "code",
   "execution_count": 51,
   "id": "08f50f12-0c5d-4508-8857-480a986c44f3",
   "metadata": {},
   "outputs": [
    {
     "name": "stdout",
     "output_type": "stream",
     "text": [
      "It works now!! [0.0, 2.2222222222222223, 4.444444444444445, 6.666666666666667, 8.88888888888889, 11.11111111111111, 13.333333333333334, 15.555555555555555, 17.77777777777778, 20.0]\n",
      "[0, 1, 2, 3, 4, 5, 6, 7, 8, 9]\n",
      "[0, 1, 2, 3, 4, 5, 6, 7, 8, 9]\n"
     ]
    }
   ],
   "source": [
    "class MyIterable:\n",
    "    def __init__(self, total):\n",
    "        self.total = total\n",
    "    def __iter__(self):\n",
    "        for i in range(self.total):\n",
    "            yield i\n",
    "\n",
    "print(f\"It works now!! {normalize(MyIterable(10))}\")\n",
    "\n",
    "iterable = MyIterable(10)\n",
    "print(list(iterable))\n",
    "print(list(iterable))"
   ]
  },
  {
   "cell_type": "markdown",
   "id": "f77f22a7-a4fa-432d-b9f0-6f938f4a572b",
   "metadata": {},
   "source": [
    "### Let's make like a DJ and Mix it up a bit\n",
    "\n",
    "The concept of Mixins is not Specific to Python, but it is achievable.\n",
    "Mixins allow us to add functionality to Python classes without interfering too much with multiple inheritance.\n",
    "\n",
    "To make a proper Mixin, the mixin must not require any touching of the `__init__` method. See the example below for a simple mixin."
   ]
  },
  {
   "cell_type": "code",
   "execution_count": 61,
   "id": "f3951787-a9be-49d2-80ca-ea8a7fc189ac",
   "metadata": {},
   "outputs": [
    {
     "data": {
      "text/plain": [
       "3"
      ]
     },
     "execution_count": 61,
     "metadata": {},
     "output_type": "execute_result"
    }
   ],
   "source": [
    "import sys\n",
    "class AttrCounterMixin:\n",
    "    def attr_count(self):\n",
    "        if isinstance(self, dict) or isinstance(self, tuple):\n",
    "            return len(self)\n",
    "        else:\n",
    "            return len(vars(self))\n",
    "\n",
    "class DataObject(AttrCounterMixin):\n",
    "    def __init__(self, x, y):\n",
    "        self.x = x\n",
    "        self.y = y\n",
    "        self.x_y = x + y\n",
    "\n",
    "do = DataObject(2, 3)\n",
    "do.attr_count()"
   ]
  },
  {
   "cell_type": "markdown",
   "id": "840ef839-587e-490f-8b58-d1183e404061",
   "metadata": {},
   "source": [
    "### Inherit from collections.abc for custom containers\n",
    "\n",
    "https://docs.python.org/3/library/collections.abc.html#collections-abstract-base-classes"
   ]
  },
  {
   "cell_type": "code",
   "execution_count": null,
   "id": "6adce5c1-da1a-4eb3-9ef8-1d6fa081cb72",
   "metadata": {},
   "outputs": [],
   "source": []
  }
 ],
 "metadata": {
  "kernelspec": {
   "display_name": "Python 3 (ipykernel)",
   "language": "python",
   "name": "python3"
  },
  "language_info": {
   "codemirror_mode": {
    "name": "ipython",
    "version": 3
   },
   "file_extension": ".py",
   "mimetype": "text/x-python",
   "name": "python",
   "nbconvert_exporter": "python",
   "pygments_lexer": "ipython3",
   "version": "3.8.13"
  }
 },
 "nbformat": 4,
 "nbformat_minor": 5
}
