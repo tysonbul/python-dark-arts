{
 "cells": [
  {
   "cell_type": "markdown",
   "id": "6ddd8e1b-0b5b-4bca-a88c-ef39b3501a75",
   "metadata": {},
   "source": [
    "# Did you know you can add control functions to Generators?\n",
    "\n",
    "Generators support two methods:\n",
    "\n",
    "`send()` and `throw()`"
   ]
  },
  {
   "cell_type": "code",
   "execution_count": 14,
   "id": "8667fda9-96d7-4091-abc7-ac186431df35",
   "metadata": {},
   "outputs": [
    {
     "name": "stdout",
     "output_type": "stream",
     "text": [
      "output: None\n",
      "received = 3\n",
      "output: 6\n",
      "received = 2\n",
      "output: 4\n",
      "received = 1\n",
      "output: 2\n",
      "received = 6\n",
      "output: 12\n",
      "received = 8\n",
      "output: 16\n",
      "output: 22\n"
     ]
    }
   ],
   "source": [
    "def my_multiplier_generator(multiply_by, run_while_values_bigger_than):\n",
    "    received = yield\n",
    "    while received < run_while_values_bigger_than:\n",
    "        print(f\"received = {received}\")\n",
    "        received = yield received * multiply_by\n",
    "    \n",
    "    yield received * multiply_by\n",
    "        \n",
    "\n",
    "it = iter(my_multiplier_generator(2, 10))\n",
    "\n",
    "for i in [None, 3,2,1,6,8,11]:\n",
    "    try:\n",
    "        output = it.send(i)\n",
    "        print(f\"output: {output}\")\n",
    "    except StopIteration:\n",
    "        pass"
   ]
  },
  {
   "cell_type": "code",
   "execution_count": 16,
   "id": "5781ec7f-b72d-4040-88ec-ca6265865ac9",
   "metadata": {},
   "outputs": [
    {
     "name": "stdout",
     "output_type": "stream",
     "text": [
      "1\n",
      "2\n"
     ]
    },
    {
     "ename": "MyError",
     "evalue": "test error",
     "output_type": "error",
     "traceback": [
      "\u001b[0;31m---------------------------------------------------------------------------\u001b[0m",
      "\u001b[0;31mMyError\u001b[0m                                   Traceback (most recent call last)",
      "Input \u001b[0;32mIn [16]\u001b[0m, in \u001b[0;36m<cell line: 12>\u001b[0;34m()\u001b[0m\n\u001b[1;32m     10\u001b[0m \u001b[38;5;28mprint\u001b[39m(\u001b[38;5;28mnext\u001b[39m(it))\n\u001b[1;32m     11\u001b[0m \u001b[38;5;28mprint\u001b[39m(\u001b[38;5;28mnext\u001b[39m(it))\n\u001b[0;32m---> 12\u001b[0m \u001b[38;5;28mprint\u001b[39m(\u001b[43mit\u001b[49m\u001b[38;5;241;43m.\u001b[39;49m\u001b[43mthrow\u001b[49m\u001b[43m(\u001b[49m\u001b[43mMyError\u001b[49m\u001b[43m(\u001b[49m\u001b[38;5;124;43m'\u001b[39;49m\u001b[38;5;124;43mtest error\u001b[39;49m\u001b[38;5;124;43m'\u001b[39;49m\u001b[43m)\u001b[49m\u001b[43m)\u001b[49m)\n",
      "Input \u001b[0;32mIn [16]\u001b[0m, in \u001b[0;36mmy_generator\u001b[0;34m()\u001b[0m\n\u001b[1;32m      4\u001b[0m \u001b[38;5;28;01mdef\u001b[39;00m \u001b[38;5;21mmy_generator\u001b[39m():\n\u001b[1;32m      5\u001b[0m     \u001b[38;5;28;01myield\u001b[39;00m \u001b[38;5;241m1\u001b[39m\n\u001b[0;32m----> 6\u001b[0m     \u001b[38;5;28;01myield\u001b[39;00m \u001b[38;5;241m2\u001b[39m\n\u001b[1;32m      7\u001b[0m     \u001b[38;5;28;01myield\u001b[39;00m \u001b[38;5;241m3\u001b[39m\n",
      "\u001b[0;31mMyError\u001b[0m: test error"
     ]
    }
   ],
   "source": [
    "class MyError(Exception):\n",
    "    pass\n",
    "\n",
    "def my_generator():\n",
    "    yield 1\n",
    "    yield 2\n",
    "    yield 3\n",
    "\n",
    "it = my_generator()\n",
    "print(next(it))\n",
    "print(next(it))\n",
    "print(it.throw(MyError('test error')))"
   ]
  },
  {
   "cell_type": "code",
   "execution_count": 19,
   "id": "fc02ccf3-5be0-43c3-97de-824fd9712ff1",
   "metadata": {},
   "outputs": [
    {
     "name": "stdout",
     "output_type": "stream",
     "text": [
      "1\n",
      "2\n",
      "Got my error\n",
      "4\n"
     ]
    }
   ],
   "source": [
    "def my_controlled_generator():\n",
    "    yield 1\n",
    "    \n",
    "    try:\n",
    "        yield 2\n",
    "    except MyError:\n",
    "        print('Got my error')\n",
    "    else:\n",
    "        yield 3\n",
    "    \n",
    "    yield 4\n",
    "\n",
    "it = my_controlled_generator()\n",
    "print(next(it))\n",
    "print(next(it))\n",
    "print(it.throw(MyError(\"test error\")))"
   ]
  },
  {
   "cell_type": "code",
   "execution_count": 22,
   "id": "f1304df3-a378-42f3-aef9-97c2ebd7d2fb",
   "metadata": {},
   "outputs": [
    {
     "name": "stdout",
     "output_type": "stream",
     "text": [
      "3 ticks remaining\n",
      "2 ticks remaining\n",
      "1 ticks remaining\n",
      "3 ticks remaining\n",
      "2 ticks remaining\n",
      "1 ticks remaining\n",
      "0 ticks remaining\n"
     ]
    }
   ],
   "source": [
    "class Reset(Exception):\n",
    "    pass\n",
    "\n",
    "def timer(period):\n",
    "    current = period\n",
    "    while current:\n",
    "        current -= 1\n",
    "        try:\n",
    "            yield current\n",
    "        except Reset:\n",
    "            current = period\n",
    "\n",
    "def announce(remaining):\n",
    "    print(f'{remaining} ticks remaining')\n",
    "\n",
    "def check_for_reset_it(): # Replicate some external system check\n",
    "    yield False\n",
    "    yield False\n",
    "    yield False\n",
    "    yield True # reset here\n",
    "    while True: yield False\n",
    "\n",
    "check_for_reset = iter(check_for_reset_it())\n",
    "\n",
    "def run():\n",
    "    it = timer(4)\n",
    "    while True:\n",
    "        try:\n",
    "            if next(check_for_reset):\n",
    "                current = it.throw(Reset())\n",
    "            else:\n",
    "                current = next(it)\n",
    "        except StopIteration:\n",
    "            break\n",
    "        else:\n",
    "            announce(current)\n",
    "run()"
   ]
  },
  {
   "cell_type": "markdown",
   "id": "b4c44c9a-3ac7-4d21-b91d-61d7251b1e97",
   "metadata": {},
   "source": [
    "## Code works! BUT is hard to read and very odd\n",
    "\n",
    "It is not recommended to use either the `send()` or `throw()` methods of a generator. Use a defensive generator container with the desired functionality"
   ]
  },
  {
   "cell_type": "code",
   "execution_count": 24,
   "id": "9888f4f3-6ba1-4d3d-a204-7fef9a9d97ed",
   "metadata": {},
   "outputs": [
    {
     "name": "stdout",
     "output_type": "stream",
     "text": [
      "3 ticks remaining\n",
      "2 ticks remaining\n",
      "1 ticks remaining\n",
      "0 ticks remaining\n",
      "3 ticks remaining\n",
      "2 ticks remaining\n",
      "1 ticks remaining\n",
      "0 ticks remaining\n"
     ]
    }
   ],
   "source": [
    "class Timer:\n",
    "    def __init__(self, period):\n",
    "        self.current = period\n",
    "        self.period = period\n",
    "    \n",
    "    def reset(self):\n",
    "        self.current = self.period\n",
    "    \n",
    "    def __iter__(self):\n",
    "        while self.current:\n",
    "            self.current -= 1\n",
    "            yield self.current\n",
    "            \n",
    "            \n",
    "check_for_reset = iter(check_for_reset_it())\n",
    "\n",
    "def run():\n",
    "    timer = Timer(4)\n",
    "    for current in timer:\n",
    "        if next(check_for_reset):\n",
    "            timer.reset()\n",
    "        announce(current)\n",
    "run()"
   ]
  },
  {
   "cell_type": "code",
   "execution_count": null,
   "id": "cbc6a6c9-a06a-4e41-a1f1-f08a8fec4472",
   "metadata": {},
   "outputs": [],
   "source": []
  }
 ],
 "metadata": {
  "kernelspec": {
   "display_name": "Python 3 (ipykernel)",
   "language": "python",
   "name": "python3"
  },
  "language_info": {
   "codemirror_mode": {
    "name": "ipython",
    "version": 3
   },
   "file_extension": ".py",
   "mimetype": "text/x-python",
   "name": "python",
   "nbconvert_exporter": "python",
   "pygments_lexer": "ipython3",
   "version": "3.8.13"
  }
 },
 "nbformat": 4,
 "nbformat_minor": 5
}
