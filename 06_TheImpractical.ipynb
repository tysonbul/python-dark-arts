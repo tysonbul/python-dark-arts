{
 "cells": [
  {
   "cell_type": "markdown",
   "id": "6ddd8e1b-0b5b-4bca-a88c-ef39b3501a75",
   "metadata": {},
   "source": [
    "Generator two way communication\n",
    "\n",
    "send()\n",
    "throw()"
   ]
  },
  {
   "cell_type": "markdown",
   "id": "b4c44c9a-3ac7-4d21-b91d-61d7251b1e97",
   "metadata": {},
   "source": [
    "Code works but is hard to read and very odd\n",
    "Use a container again with the desired functionality\n"
   ]
  }
 ],
 "metadata": {
  "kernelspec": {
   "display_name": "Python 3 (ipykernel)",
   "language": "python",
   "name": "python3"
  },
  "language_info": {
   "codemirror_mode": {
    "name": "ipython",
    "version": 3
   },
   "file_extension": ".py",
   "mimetype": "text/x-python",
   "name": "python",
   "nbconvert_exporter": "python",
   "pygments_lexer": "ipython3",
   "version": "3.8.13"
  }
 },
 "nbformat": 4,
 "nbformat_minor": 5
}
