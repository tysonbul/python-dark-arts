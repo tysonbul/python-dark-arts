{
 "cells": [
  {
   "cell_type": "markdown",
   "id": "1cc7da41-c81f-4f26-b1e4-86fd3189f14f",
   "metadata": {},
   "source": [
    "## Turn that confusion into interest!\n",
    "\n",
    "When exploring the world Python offers, there will be suprising, confusing, and odd things, but with a perspective of interest you can begin to go a long way."
   ]
  },
  {
   "cell_type": "markdown",
   "id": "6a26a5fa-28f1-44aa-842b-fbe5d119f862",
   "metadata": {},
   "source": [
    "### Star args and star star kwargs\n",
    "I feel like I should make a Star Wars reference here...\n",
    "\n",
    "We all know `*args` and `**kwargs` as helpful utilities in our day to day programming."
   ]
  },
  {
   "cell_type": "code",
   "execution_count": 4,
   "id": "9752c0c1-de4e-47a8-b4ee-03405e78a643",
   "metadata": {},
   "outputs": [
    {
     "name": "stdout",
     "output_type": "stream",
     "text": [
      "Thanks for ('passing', 'me', 'my', 'light', 'saber') and {'becoming': 'a sith lord'} jar jar!\n"
     ]
    }
   ],
   "source": [
    "def jar_jar_helps(*args, **kwargs):\n",
    "    print(f\"Thanks for {args} and {kwargs} jar jar!\")\n",
    "\n",
    "jar_jar_helps(\"passing\",\"me\",\"my\", \"light\", \"saber\", becoming=\"a sith lord\")"
   ]
  },
  {
   "cell_type": "markdown",
   "id": "fb084aee-523b-4027-b351-14408fb70916",
   "metadata": {},
   "source": [
    "### Just like a Jedi going to the dark side, star args can go the other way too"
   ]
  },
  {
   "cell_type": "code",
   "execution_count": 11,
   "id": "0763cb95-01e2-4bf2-a063-a40fcf0213f0",
   "metadata": {},
   "outputs": [
    {
     "name": "stdout",
     "output_type": "stream",
     "text": [
      "The first sith lord was: palpatine, who preceded ['maul', 'grevious', 'vader']\n",
      "The current sith is: vader, and the first sith lord was: palpatine, who preceded all other sith ['maul', 'grevious']\n"
     ]
    }
   ],
   "source": [
    "sith_lord_order = [\"palpatine\", \"maul\", \"grevious\", \"vader\"]\n",
    "first_sith, *other_siths = sith_lord_order\n",
    "print(f\"The first sith lord was: {first_sith}, who preceded {other_siths}\")\n",
    "\n",
    "first_sith, *other_siths, current_sith = sith_lord_order\n",
    "print(f\"The current sith is: {current_sith}, and the first sith lord was: {first_sith}, who preceded all other sith {other_siths}\")"
   ]
  },
  {
   "cell_type": "markdown",
   "id": "6e2835e6-8f0f-402e-ae70-6e6c8bf2bbc1",
   "metadata": {},
   "source": [
    "### What about the \"type\" of Sith you become when swithing to the Dark side? Dual saber, force lightning, mind tricks?\n",
    "Same question applies to your list."
   ]
  },
  {
   "cell_type": "code",
   "execution_count": 22,
   "id": "bfe04717-40ec-4211-9884-c73025a12918",
   "metadata": {},
   "outputs": [
    {
     "name": "stdout",
     "output_type": "stream",
     "text": [
      "<class 'list'>\n",
      "<class 'list'>\n"
     ]
    }
   ],
   "source": [
    "my_list = [1,2,3,4]\n",
    "first, *middle, last = my_list\n",
    "print(type(middle))\n",
    "\n",
    "my_tuple = (1,2,3,4)\n",
    "first, *middle, last = my_tuple\n",
    "print(type(middle))"
   ]
  },
  {
   "cell_type": "markdown",
   "id": "c55492c1-f0de-4a83-b946-5cfc843131b0",
   "metadata": {},
   "source": [
    "### I know this is a lot to \"unpack\", but there's more..."
   ]
  },
  {
   "cell_type": "code",
   "execution_count": 21,
   "id": "9a8c30ab-691f-4773-8a92-1106d1453279",
   "metadata": {},
   "outputs": [
    {
     "name": "stdout",
     "output_type": "stream",
     "text": [
      "luke was trained by obiwan, who was trained in succession by ['yoda']\n",
      "anikan was trained by obi-wan, who was trained in succession by ['qui gon jinn', 'yoda']\n"
     ]
    }
   ],
   "source": [
    "jedis_and_their_heirarchy = {\n",
    "    \"luke\": [\"obiwan\",\"yoda\"],\n",
    "    \"anikan\": [\"obi-wan\",\"qui gon jinn\", \"yoda\"]\n",
    "}\n",
    "\n",
    "((jedi1, (direct_master1, *others1)),\n",
    " (jedi2, (direct_master2, *others2))) = jedis_and_their_heirarchy.items()\n",
    "\n",
    "print(f\"{jedi1} was trained by {direct_master1}, who was trained in succession by {others1}\")\n",
    "print(f\"{jedi2} was trained by {direct_master2}, who was trained in succession by {others2}\")"
   ]
  },
  {
   "cell_type": "markdown",
   "id": "19809131-9278-4b1b-9e34-87b80a180988",
   "metadata": {},
   "source": [
    "### Unpacking from a function that returns multiple values\n",
    "A general guideline is if you find yourself unpacking more than 3 variables from a function call, you should probably create an data object or `namedtuple`."
   ]
  },
  {
   "cell_type": "code",
   "execution_count": 27,
   "id": "95125bf4-596a-408f-91d1-2c8b421d7a99",
   "metadata": {},
   "outputs": [
    {
     "name": "stdout",
     "output_type": "stream",
     "text": [
      "So many variables to keep track of, sure hope I didn't mess anything up :/\n",
      "Min: 5, Max: 1, Count: 6, Avg: 3.1666666666666665. \n",
      "That min doesn't look right, darn it :(\n"
     ]
    }
   ],
   "source": [
    "def get_stats(numbers):\n",
    "    minimum = min(numbers)\n",
    "    maximum = max(numbers)\n",
    "    count = len(numbers)\n",
    "    average = sum(numbers) / count\n",
    "    return minimum, maximum, count, average\n",
    "\n",
    "maximum, minimum, count, average = get_stats([1,2,3,4,4,5])\n",
    "print(f\"So many variables to keep track of, sure hope I didn't mess anything up :/\\nMin: {minimum}, Max: {maximum}, Count: {count}, Avg: {average}. \\nThat min doesn't look right, darn it :(\")"
   ]
  },
  {
   "cell_type": "code",
   "execution_count": 29,
   "id": "49a5924a-83b1-49ac-b5ea-6d8713bb3362",
   "metadata": {},
   "outputs": [
    {
     "name": "stdout",
     "output_type": "stream",
     "text": [
      "So ez to use WOW :)\n",
      "Min: 1, Max: 5, Count: 6, Avg: 3.1666666666666665.\n"
     ]
    }
   ],
   "source": [
    "from collections import namedtuple\n",
    "Stats = namedtuple(\"Stats\", \"minimum maximum count average\")\n",
    "def get_good_stats(numbers):\n",
    "    minimum = min(numbers)\n",
    "    maximum = max(numbers)\n",
    "    count = len(numbers)\n",
    "    average = sum(numbers) / count\n",
    "    return Stats(minimum, maximum, count, average)\n",
    "\n",
    "stats = get_good_stats([1,2,3,4,4,5])\n",
    "print(f\"So ez to use WOW :)\\nMin: {stats.minimum}, Max: {stats.maximum}, Count: {stats.count}, Avg: {stats.average}.\")"
   ]
  },
  {
   "cell_type": "markdown",
   "id": "520d99b8-0d07-46b2-a26c-b6da5c180724",
   "metadata": {},
   "source": [
    "#### Quick note on NamedTuple vs Dataclass\n",
    "\n",
    "NamedTuples are lightweight objects, as they extend tuple. Where as dataclasses will have larger memory footprints.\n",
    "\n",
    "Use Dataclass when you need default arguments, or in general something more complicated, for example, a possibility of inheritance.\n",
    "\n",
    "Use NamedTuple when you want your data to be immutable, hashable, iterable, unpackable, comparable.\n",
    "\n",
    "Example Sourced from: https://stackoverflow.com/a/51673969"
   ]
  },
  {
   "cell_type": "code",
   "execution_count": 34,
   "id": "1746fca8-76d2-4bef-91dd-11a3fb6a9114",
   "metadata": {},
   "outputs": [
    {
     "name": "stdout",
     "output_type": "stream",
     "text": [
      "Size of NamedTuple: 72\n",
      "Size of dataclass: 152\n"
     ]
    }
   ],
   "source": [
    "import sys\n",
    "from collections import namedtuple\n",
    "from dataclasses import dataclass\n",
    "\n",
    "StatsNT = namedtuple(\"StatsNT\", \"minimum maximum count average\")\n",
    "@dataclass\n",
    "class StatsDC:\n",
    "    minimum: int\n",
    "    maximum: int\n",
    "    count: int\n",
    "    average: float\n",
    "    \n",
    "nt = StatsNT(1,5,6,19/6)\n",
    "dc = StatsDC(1,5,6,19/6)\n",
    "\n",
    "print(\"Size of NamedTuple:\", sys.getsizeof(nt))\n",
    "print(\"Size of dataclass:\", sys.getsizeof(dc) + sys.getsizeof(vars(dc)))"
   ]
  },
  {
   "cell_type": "code",
   "execution_count": 35,
   "id": "79c7aa4c-00b6-4c31-9477-0f00050be301",
   "metadata": {},
   "outputs": [
    {
     "name": "stdout",
     "output_type": "stream",
     "text": [
      "35.3 ns ± 1.02 ns per loop (mean ± std. dev. of 7 runs, 10,000,000 loops each)\n"
     ]
    }
   ],
   "source": [
    "%timeit nt.minimum"
   ]
  },
  {
   "cell_type": "code",
   "execution_count": 36,
   "id": "3d7f2c28-7515-478c-adc5-c56db6941835",
   "metadata": {},
   "outputs": [
    {
     "name": "stdout",
     "output_type": "stream",
     "text": [
      "40.2 ns ± 1.11 ns per loop (mean ± std. dev. of 7 runs, 10,000,000 loops each)\n"
     ]
    }
   ],
   "source": [
    "%timeit dc.minimum"
   ]
  },
  {
   "cell_type": "markdown",
   "id": "ec34f6d3-7e5f-452b-9767-3ccdcd1a1a43",
   "metadata": {},
   "source": [
    "### Bonus interesting: Let's get things sorted..."
   ]
  },
  {
   "cell_type": "code",
   "execution_count": 47,
   "id": "98bbdcfe-7e3e-4d68-9594-6e3a4cdc1ca5",
   "metadata": {},
   "outputs": [
    {
     "data": {
      "text/plain": [
       "[BookDC(date='2021-09-01', author='John', title='Less Darkness'),\n",
       " BookDC(date='2021-09-03', author='John', title='Just the right amount of: Darkness'),\n",
       " BookDC(date='2021-09-03', author='John', title='Darkness'),\n",
       " BookDC(date='2021-09-04', author='Smith', title='Light')]"
      ]
     },
     "execution_count": 47,
     "metadata": {},
     "output_type": "execute_result"
    }
   ],
   "source": [
    "@dataclass\n",
    "class BookDC:\n",
    "    date: str\n",
    "    author: str\n",
    "    title: str\n",
    "    \n",
    "books = [\n",
    "    BookDC(\"2021-09-03\", \"John\", \"Just the right amount of: Darkness\"),\n",
    "    BookDC(\"2021-09-03\", \"John\", \"Darkness\"),\n",
    "    BookDC(\"2021-09-04\", \"Smith\", \"Light\"),\n",
    "    BookDC(\"2021-09-01\", \"John\", \"Less Darkness\"),\n",
    "]\n",
    "\n",
    "books.sort(key=lambda x: x.date)\n",
    "books"
   ]
  },
  {
   "cell_type": "code",
   "execution_count": 48,
   "id": "f4b787e7-2790-4f46-b583-ed6c6d094fd1",
   "metadata": {},
   "outputs": [
    {
     "data": {
      "text/plain": [
       "[BookDC(date='2021-09-01', author='John', title='Less Darkness'),\n",
       " BookDC(date='2021-09-03', author='John', title='Darkness'),\n",
       " BookDC(date='2021-09-03', author='John', title='Just the right amount of: Darkness'),\n",
       " BookDC(date='2021-09-04', author='Smith', title='Light')]"
      ]
     },
     "execution_count": 48,
     "metadata": {},
     "output_type": "execute_result"
    }
   ],
   "source": [
    "@dataclass\n",
    "class BookDC:\n",
    "    date: str\n",
    "    author: str\n",
    "    title: str\n",
    "    \n",
    "books = [\n",
    "    BookDC(\"2021-09-03\", \"John\", \"Just the right amount of: Darkness\"),\n",
    "    BookDC(\"2021-09-03\", \"John\", \"Darkness\"),\n",
    "    BookDC(\"2021-09-04\", \"Smith\", \"Light\"),\n",
    "    BookDC(\"2021-09-01\", \"John\", \"Less Darkness\"),\n",
    "]\n",
    "\n",
    "books.sort(key=lambda x: (x.date, x.author, x.title))\n",
    "books"
   ]
  },
  {
   "cell_type": "markdown",
   "id": "96c5a957-d94d-48d5-862c-3d0b2bfc1638",
   "metadata": {},
   "source": [
    "#### But then if a namedtuple is a tuples...."
   ]
  },
  {
   "cell_type": "code",
   "execution_count": 49,
   "id": "f3e330d3-536b-4d9d-9f63-13b209f22038",
   "metadata": {},
   "outputs": [
    {
     "data": {
      "text/plain": [
       "[Book(Date='2021-09-01', Author='John', Title='Less Darkness'),\n",
       " Book(Date='2021-09-03', Author='John', Title='Darkness'),\n",
       " Book(Date='2021-09-03', Author='John', Title='Just the right amount of: Darkness'),\n",
       " Book(Date='2021-09-04', Author='Smith', Title='Light')]"
      ]
     },
     "execution_count": 49,
     "metadata": {},
     "output_type": "execute_result"
    }
   ],
   "source": [
    "BookNT = namedtuple(\"Book\", \"Date Author Title\")\n",
    "\n",
    "books = [\n",
    "    BookNT(\"2021-09-03\", \"John\", \"Just the right amount of: Darkness\"),\n",
    "    BookNT(\"2021-09-03\", \"John\", \"Darkness\"),\n",
    "    BookNT(\"2021-09-04\", \"Smith\", \"Light\"),\n",
    "    BookNT(\"2021-09-01\", \"John\", \"Less Darkness\"),\n",
    "]\n",
    "\n",
    "books.sort()\n",
    "books"
   ]
  },
  {
   "cell_type": "markdown",
   "id": "85d59aa1-e77d-48f6-965a-d9a8f5be93d6",
   "metadata": {},
   "source": [
    "### But should you rely on this?..\n",
    "Absolutley not, that's probably one of the most implicit assumptions you can make."
   ]
  },
  {
   "cell_type": "code",
   "execution_count": null,
   "id": "bf6e37b1-9e98-43ea-a773-a37e41650a81",
   "metadata": {},
   "outputs": [],
   "source": []
  }
 ],
 "metadata": {
  "kernelspec": {
   "display_name": "Python 3 (ipykernel)",
   "language": "python",
   "name": "python3"
  },
  "language_info": {
   "codemirror_mode": {
    "name": "ipython",
    "version": 3
   },
   "file_extension": ".py",
   "mimetype": "text/x-python",
   "name": "python",
   "nbconvert_exporter": "python",
   "pygments_lexer": "ipython3",
   "version": "3.8.13"
  }
 },
 "nbformat": 4,
 "nbformat_minor": 5
}
