{
 "cells": [
  {
   "cell_type": "markdown",
   "id": "b5fc61b8-26f9-46e1-8176-19e2b81f71dd",
   "metadata": {},
   "source": [
    "# Welcome to the Python Basics that everyone should know"
   ]
  },
  {
   "cell_type": "markdown",
   "id": "26a10da2-11a0-490c-a23c-dc5500413724",
   "metadata": {},
   "source": [
    "### Step 1) Know your python version"
   ]
  },
  {
   "cell_type": "code",
   "execution_count": 2,
   "id": "5c67ea7c-4277-4cb0-90df-a016b9ba3d9b",
   "metadata": {},
   "outputs": [
    {
     "name": "stdout",
     "output_type": "stream",
     "text": [
      "sys.version_info(major=3, minor=8, micro=13, releaselevel='final', serial=0)\n",
      "3.8.13 (default, Mar 28 2022, 06:16:26) \n",
      "[Clang 12.0.0 ]\n"
     ]
    }
   ],
   "source": [
    "import sys\n",
    "print(sys.version_info)\n",
    "print(sys.version)"
   ]
  },
  {
   "cell_type": "markdown",
   "id": "7f87b031-87fd-4a1d-8888-6e80a247a001",
   "metadata": {},
   "source": [
    "Why?\n",
    "Because you can find out what language features are available to you, as well prioritize things like upgrading your python version when end of life events happen."
   ]
  },
  {
   "cell_type": "markdown",
   "id": "869c33ff-e903-4f86-ac9e-c268c042cc4b",
   "metadata": {},
   "source": [
    "### Step 2) Think like a snake"
   ]
  },
  {
   "cell_type": "code",
   "execution_count": 3,
   "id": "2c8eef38-c8cc-4313-91a8-743349b396d4",
   "metadata": {},
   "outputs": [
    {
     "name": "stdout",
     "output_type": "stream",
     "text": [
      "The Zen of Python, by Tim Peters\n",
      "\n",
      "Beautiful is better than ugly.\n",
      "Explicit is better than implicit.\n",
      "Simple is better than complex.\n",
      "Complex is better than complicated.\n",
      "Flat is better than nested.\n",
      "Sparse is better than dense.\n",
      "Readability counts.\n",
      "Special cases aren't special enough to break the rules.\n",
      "Although practicality beats purity.\n",
      "Errors should never pass silently.\n",
      "Unless explicitly silenced.\n",
      "In the face of ambiguity, refuse the temptation to guess.\n",
      "There should be one-- and preferably only one --obvious way to do it.\n",
      "Although that way may not be obvious at first unless you're Dutch.\n",
      "Now is better than never.\n",
      "Although never is often better than *right* now.\n",
      "If the implementation is hard to explain, it's a bad idea.\n",
      "If the implementation is easy to explain, it may be a good idea.\n",
      "Namespaces are one honking great idea -- let's do more of those!\n"
     ]
    }
   ],
   "source": [
    "import this"
   ]
  },
  {
   "cell_type": "markdown",
   "id": "84e991c3-a9bc-4383-9bf9-4c4eca85f6ab",
   "metadata": {},
   "source": [
    "Why?\n",
    "Because Python is a language that allows you to do so much in so many ways. It can require taking a step back and looking at your problem with new eyes when introduced to Python."
   ]
  },
  {
   "cell_type": "markdown",
   "id": "f522c49d-18f5-4c80-9186-b90aa4351ede",
   "metadata": {},
   "source": [
    "### Step 3) \"Readability counts\" (See Step 2)"
   ]
  },
  {
   "cell_type": "code",
   "execution_count": 8,
   "id": "1c747256-10a8-4112-8d3e-9ae9c1aee86d",
   "metadata": {},
   "outputs": [
    {
     "name": "stdout",
     "output_type": "stream",
     "text": [
      "Example 0: like enumerate\n",
      "Example 1: or f-strings\n",
      "Example 2: even unpacking\n",
      "Example 3: as well as first class methods and nested functions\n"
     ]
    }
   ],
   "source": [
    "def use_language_features():\n",
    "    \n",
    "    def my_first_class_helper():\n",
    "        return \"first class methods and nested functions\"\n",
    "    \n",
    "    for ind, (conjunction, feature) in enumerate([(\"like\",\"enumerate\"), (\"or\",\"f-strings\"), (\"even\",\"unpacking\"), (\"as well as\", my_first_class_helper())]):\n",
    "        print(f\"Example {ind}: {conjunction} {feature}\")\n",
    "\n",
    "use_language_features()"
   ]
  },
  {
   "cell_type": "markdown",
   "id": "93c482a0-5ac5-4351-96fd-6d4d31f28ff5",
   "metadata": {},
   "source": [
    "Why?\n",
    "Because we are going to do complicated things, and the better we can understand from simply reading the code the better.\n",
    "A lot of people will say \"Python is easy\", but I'd like to challenge those on that to adopt a new mind set, which is \"Python is expressive\". What you do with it can be easy, but can also be complex and challenging."
   ]
  },
  {
   "cell_type": "markdown",
   "id": "09e7e921-64a4-4917-aacb-af80bac87ef8",
   "metadata": {},
   "source": [
    "### Step 4) \"We are all consenting adults here\"\n",
    "\n",
    "There are a lot of things, as we'll see, that Python allows us to do that break many saftey nets found in other languages. Python has chosen that in somecases preventing us from doing what we want isn't their choice to make. It's our choice to extend, modify, and create code, and that also becomes our responsiblity when we choose to do so.\n",
    "\n",
    "(Item 42 in the book really drives this one home: _Item 42: Prefer public attributes over private ones_)"
   ]
  },
  {
   "cell_type": "markdown",
   "id": "109223dd-b132-42c3-b021-0c619acd8836",
   "metadata": {},
   "source": [
    "### Additional Basics mentioned in the Book\n",
    "\n",
    "There are a lot of, what I consider, basic things most Python developers should be aware of mentioned in the book. I list them below but will not cover them with examples. If anyone is unfamiliar with them they should look into each as they are foundational to effective Python code.\n",
    "\n",
    "In no particular order:\n",
    "- functools.wraps\n",
    "- function scope and closures\n",
    "- defaultdict\n",
    "- f-strings\n",
    "- pep8\n",
    "- itertools.[chain,repeat,islice,cycle,etc....]\n",
    "- @classmethod\n",
    "- super() and MRO\n",
    "- bisect\n",
    "- heapq\n",
    "- deque\n",
    "- Mock/MagicMock + spec/autospec\n",
    "- circular dependencies"
   ]
  },
  {
   "cell_type": "code",
   "execution_count": null,
   "id": "3f26a5be-951e-4deb-b381-5bcbaf683374",
   "metadata": {},
   "outputs": [],
   "source": []
  }
 ],
 "metadata": {
  "kernelspec": {
   "display_name": "Python 3 (ipykernel)",
   "language": "python",
   "name": "python3"
  },
  "language_info": {
   "codemirror_mode": {
    "name": "ipython",
    "version": 3
   },
   "file_extension": ".py",
   "mimetype": "text/x-python",
   "name": "python",
   "nbconvert_exporter": "python",
   "pygments_lexer": "ipython3",
   "version": "3.8.13"
  }
 },
 "nbformat": 4,
 "nbformat_minor": 5
}
