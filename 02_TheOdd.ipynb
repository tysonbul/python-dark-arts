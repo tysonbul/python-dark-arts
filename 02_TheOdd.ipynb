{
 "cells": [
  {
   "cell_type": "markdown",
   "id": "b5fc61b8-26f9-46e1-8176-19e2b81f71dd",
   "metadata": {},
   "source": [
    "## With Python there are some things that will make you take a second look and you may find a bit odd."
   ]
  },
  {
   "cell_type": "markdown",
   "id": "26a10da2-11a0-490c-a23c-dc5500413724",
   "metadata": {},
   "source": [
    "### Remember when your mother told you to \"eat your vegatable, or else\"?\n",
    "And you never really knew what \"else\" meant.\n",
    "Well let's see what \"else\" is to Python. "
   ]
  },
  {
   "cell_type": "code",
   "execution_count": 4,
   "id": "5c67ea7c-4277-4cb0-90df-a016b9ba3d9b",
   "metadata": {},
   "outputs": [
    {
     "name": "stdout",
     "output_type": "stream",
     "text": [
      "Thing I'm trying!\n",
      "I did my success thing\n",
      "My else is poppin'\n",
      "I'm done trying the thing\n",
      "--------\n",
      "Thing I'm trying!\n",
      "Oh no I broke :/ \n",
      "I'm done trying the thing\n"
     ]
    }
   ],
   "source": [
    "def try_me(call_me):\n",
    "    try:\n",
    "        print(\"Thing I'm trying!\")\n",
    "        call_me()\n",
    "    except:\n",
    "        print(\"Oh no I broke :/ \")\n",
    "    else:\n",
    "        print(\"My else is poppin'\")\n",
    "    print(\"I'm done trying the thing\")\n",
    "\n",
    "try_me(lambda: print(\"I did my success thing\"))\n",
    "print(\"-\" * 8)\n",
    "\n",
    "def im_gunna_fail():\n",
    "    raise Exception(\"Ouch, I failed\")\n",
    "try_me(im_gunna_fail)"
   ]
  },
  {
   "cell_type": "markdown",
   "id": "869c33ff-e903-4f86-ac9e-c268c042cc4b",
   "metadata": {},
   "source": [
    "### While you think the above is odd, you will be suprised for a while from this too..."
   ]
  },
  {
   "cell_type": "code",
   "execution_count": 14,
   "id": "2c8eef38-c8cc-4313-91a8-743349b396d4",
   "metadata": {},
   "outputs": [
    {
     "name": "stdout",
     "output_type": "stream",
     "text": [
      "Give me a 0!\n",
      "Give me a 1!\n",
      "Give me a 2!\n",
      "Go 3 Go!\n",
      "--------\n",
      "Go 0 Go!\n"
     ]
    }
   ],
   "source": [
    "def cheer_for(num):\n",
    "    for i in range(num):\n",
    "        print(f\"Give me a {i}!\")\n",
    "    else:\n",
    "        print(f\"Go {num} Go!\")\n",
    "\n",
    "cheer_for(3)\n",
    "print(\"-\" * 8)\n",
    "cheer_for(0) # An empty iteration"
   ]
  },
  {
   "cell_type": "code",
   "execution_count": 15,
   "id": "3fcf0cb0-5a36-4029-8169-f2032ff43c66",
   "metadata": {},
   "outputs": [
    {
     "name": "stdout",
     "output_type": "stream",
     "text": [
      "Give me a 0!\n",
      "Give me a 1!\n",
      "Give me a 2!\n",
      "Go 3 Go!\n",
      "--------\n",
      "Go 0 Go!\n"
     ]
    }
   ],
   "source": [
    "def cheer_while(num):\n",
    "    i = 0\n",
    "    while i < num:\n",
    "        print(f\"Give me a {i}!\")\n",
    "        i += 1\n",
    "    else:\n",
    "        print(f\"Go {num} Go!\")\n",
    "\n",
    "cheer_while(3)\n",
    "print(\"-\" * 8)\n",
    "cheer_while(0) # An empty iteration"
   ]
  },
  {
   "cell_type": "markdown",
   "id": "26e8bdaf-e7ef-45c1-8a84-8fb66a753a92",
   "metadata": {},
   "source": [
    "### When isn't the else called then??"
   ]
  },
  {
   "cell_type": "code",
   "execution_count": 16,
   "id": "395d8e0c-182a-4e32-a9f7-9b844fbfea0c",
   "metadata": {},
   "outputs": [
    {
     "name": "stdout",
     "output_type": "stream",
     "text": [
      "Give me a 0!\n",
      "Give me a 1!\n",
      "Give me a 2!\n",
      "Oh yuck, nvm, booooo 4\n"
     ]
    }
   ],
   "source": [
    "def cheer_for_unless(num, break_at):\n",
    "    for i in range(num):\n",
    "        print(f\"Give me a {i}!\")\n",
    "        if i == break_at:\n",
    "            print(f\"Oh yuck, nvm, booooo {num}\")\n",
    "            break\n",
    "    else:\n",
    "        print(f\"Go {num} Go!\")\n",
    "\n",
    "cheer_for_unless(4, 2)"
   ]
  },
  {
   "cell_type": "markdown",
   "id": "5af0df8a-b5ab-4def-8775-316060d90d0f",
   "metadata": {},
   "source": [
    "### When would you actually use this? \n",
    "Well some sort of searching would be the most common usecase"
   ]
  },
  {
   "cell_type": "code",
   "execution_count": 13,
   "id": "8d66950c-cb51-4873-ba10-6485bd624f69",
   "metadata": {},
   "outputs": [
    {
     "name": "stdout",
     "output_type": "stream",
     "text": [
      "Testing 2\n",
      "Testing 3\n",
      "Testing 4\n",
      "It's coprime!\n"
     ]
    }
   ],
   "source": [
    "def is_coprime(a, b):\n",
    "    for i in range(2, min(a,b) + 1):\n",
    "        print(\"Testing\", i )\n",
    "        if a % i == 0 and b % i == 0:\n",
    "            print(\"Not coprime!\")\n",
    "            break\n",
    "    else:\n",
    "        print(\"It's coprime!\")\n",
    "is_coprime(4, 9)"
   ]
  },
  {
   "cell_type": "markdown",
   "id": "84e991c3-a9bc-4383-9bf9-4c4eca85f6ab",
   "metadata": {},
   "source": [
    "# The general recommandation here is to avoid using these else statements, they are a bit odd and not exactly intuitive!"
   ]
  }
 ],
 "metadata": {
  "kernelspec": {
   "display_name": "Python 3 (ipykernel)",
   "language": "python",
   "name": "python3"
  },
  "language_info": {
   "codemirror_mode": {
    "name": "ipython",
    "version": 3
   },
   "file_extension": ".py",
   "mimetype": "text/x-python",
   "name": "python",
   "nbconvert_exporter": "python",
   "pygments_lexer": "ipython3",
   "version": "3.8.13"
  }
 },
 "nbformat": 4,
 "nbformat_minor": 5
}
