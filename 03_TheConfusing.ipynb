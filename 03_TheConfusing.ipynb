{
 "cells": [
  {
   "cell_type": "markdown",
   "id": "1cc7da41-c81f-4f26-b1e4-86fd3189f14f",
   "metadata": {},
   "source": [
    "## Python, confusing? Nooooo, yeah, for sure.\n",
    "What, well if I hadn't darn been a most ravindesh deckered dolly in a abandoned warehouse for 46 fortnights I'd wish ye a calter-melon of a woopsigner.\n",
    "\n",
    "Confused now? Good, welcome to Python.\n",
    "\n",
    "Python has a lot of functionality built into almost every part of it, a lot of it from community requests and preferences. Which sometimes they can be a little more than we'd expect. A prime example is Python's lists."
   ]
  },
  {
   "cell_type": "markdown",
   "id": "6a26a5fa-28f1-44aa-842b-fbe5d119f862",
   "metadata": {},
   "source": [
    "### Python lists and slicing"
   ]
  },
  {
   "cell_type": "code",
   "execution_count": 4,
   "id": "9752c0c1-de4e-47a8-b4ee-03405e78a643",
   "metadata": {},
   "outputs": [
    {
     "name": "stdout",
     "output_type": "stream",
     "text": [
      "Wow cool list man! [1, 2, 3, 4]\n",
      "Wow even cooler half of a list my dude [1, 2]\n",
      "Wow cool last element of the list my dude 4\n",
      "Wow cool every second element of the list my dude [1, 3]\n"
     ]
    }
   ],
   "source": [
    "my_list = [1,2,3,4]\n",
    "print(f\"Wow cool list man! {my_list}\")\n",
    "print(f\"Wow even cooler half of a list my dude {my_list[:len(my_list)//2]}\")\n",
    "print(f\"Wow cool last element of the list my dude {my_list[-1]}\")\n",
    "print(f\"Wow cool every second element of the list my dude {my_list[::2]}\")"
   ]
  },
  {
   "cell_type": "markdown",
   "id": "34de4071-a795-479d-879c-931c7917ea15",
   "metadata": {},
   "source": [
    "### And we also know that list slicing can be pretty forgiving (unlike it's sibling: indexing)"
   ]
  },
  {
   "cell_type": "code",
   "execution_count": 8,
   "id": "2d40253a-9b96-4557-88e1-ab170a0db800",
   "metadata": {},
   "outputs": [
    {
     "name": "stdout",
     "output_type": "stream",
     "text": [
      "Thanks for not index erroring on me, list: [1, 2, 3, 4]\n",
      "Aww man :/ \n"
     ]
    }
   ],
   "source": [
    "my_list = [1,2,3,4]\n",
    "print(f\"Thanks for not index erroring on me, list: {my_list[-20:20]}\")\n",
    "try:\n",
    "    my_list[20]\n",
    "except IndexError:\n",
    "    print(\"Aww man :/ \")"
   ]
  },
  {
   "cell_type": "markdown",
   "id": "2bb01797-f747-4f60-8a55-6a541bdd13f7",
   "metadata": {},
   "source": [
    "### And List's are so mutable!!"
   ]
  },
  {
   "cell_type": "code",
   "execution_count": 11,
   "id": "98322fe1-bc9d-4281-aca4-f2610579af08",
   "metadata": {},
   "outputs": [
    {
     "name": "stdout",
     "output_type": "stream",
     "text": [
      "[1, 2, 3, 5]\n",
      "[1, 0, 0, 4]\n"
     ]
    }
   ],
   "source": [
    "my_list = [1,2,3,4]\n",
    "my_list[3] = 5\n",
    "print(my_list)\n",
    "\n",
    "my_list = [1,2,3,4]\n",
    "my_list[1:3] = [0, 0]\n",
    "print(my_list)"
   ]
  },
  {
   "cell_type": "markdown",
   "id": "8449b267-91d1-4230-9285-27ea447c5314",
   "metadata": {},
   "source": [
    "### Actually wait... Maybe too mutable..."
   ]
  },
  {
   "cell_type": "code",
   "execution_count": 15,
   "id": "e3be6afa-7d61-4080-816f-55d85241197e",
   "metadata": {},
   "outputs": [
    {
     "name": "stdout",
     "output_type": "stream",
     "text": [
      "WHAT HAVE YOU DONE TO MY PRECIOUS LIST?? [1, 998, 999, 1000, 1001, 4]\n"
     ]
    }
   ],
   "source": [
    "my_list = [1,2,3,4]\n",
    "my_list[1:3] = [998,999,1000,1001]\n",
    "print(f\"WHAT HAVE YOU DONE TO MY PRECIOUS LIST?? {my_list}\")"
   ]
  },
  {
   "cell_type": "markdown",
   "id": "ee093c5f-703e-4099-98dd-bb05aa7126da",
   "metadata": {},
   "source": [
    "### And just wait till you see what happens when you do slice assignment with stride specified..."
   ]
  },
  {
   "cell_type": "code",
   "execution_count": 18,
   "id": "3089f12e-499c-465b-a88c-358b3fea2648",
   "metadata": {},
   "outputs": [
    {
     "ename": "ValueError",
     "evalue": "attempt to assign sequence of size 4 to extended slice of size 1",
     "output_type": "error",
     "traceback": [
      "\u001b[0;31m---------------------------------------------------------------------------\u001b[0m",
      "\u001b[0;31mValueError\u001b[0m                                Traceback (most recent call last)",
      "Input \u001b[0;32mIn [18]\u001b[0m, in \u001b[0;36m<cell line: 9>\u001b[0;34m()\u001b[0m\n\u001b[1;32m      5\u001b[0m my_list \u001b[38;5;241m=\u001b[39m [\u001b[38;5;241m1\u001b[39m,\u001b[38;5;241m2\u001b[39m,\u001b[38;5;241m3\u001b[39m,\u001b[38;5;241m4\u001b[39m]\n\u001b[1;32m      7\u001b[0m suspense_adder(suspense_to_add)\n\u001b[0;32m----> 9\u001b[0m my_list[\u001b[38;5;241m1\u001b[39m:\u001b[38;5;241m3\u001b[39m:\u001b[38;5;241m2\u001b[39m] \u001b[38;5;241m=\u001b[39m [\u001b[38;5;241m998\u001b[39m,\u001b[38;5;241m999\u001b[39m,\u001b[38;5;241m1000\u001b[39m,\u001b[38;5;241m1001\u001b[39m]\n",
      "\u001b[0;31mValueError\u001b[0m: attempt to assign sequence of size 4 to extended slice of size 1"
     ]
    }
   ],
   "source": [
    "import time\n",
    "suspense_to_add = 5\n",
    "suspense_adder = time.sleep\n",
    "\n",
    "my_list = [1,2,3,4]\n",
    "\n",
    "suspense_adder(suspense_to_add)\n",
    "\n",
    "my_list[1:3:2] = [998,999,1000,1001]"
   ]
  }
 ],
 "metadata": {
  "kernelspec": {
   "display_name": "Python 3 (ipykernel)",
   "language": "python",
   "name": "python3"
  },
  "language_info": {
   "codemirror_mode": {
    "name": "ipython",
    "version": 3
   },
   "file_extension": ".py",
   "mimetype": "text/x-python",
   "name": "python",
   "nbconvert_exporter": "python",
   "pygments_lexer": "ipython3",
   "version": "3.8.13"
  }
 },
 "nbformat": 4,
 "nbformat_minor": 5
}
