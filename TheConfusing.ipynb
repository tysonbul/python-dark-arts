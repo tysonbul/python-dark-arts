{
 "cells": [
  {
   "cell_type": "markdown",
   "id": "1cc7da41-c81f-4f26-b1e4-86fd3189f14f",
   "metadata": {},
   "source": [
    "Else blocks on a while/for\n",
    "Slicing modifying the list\n",
    " - Can slice beyond limits\n",
    " - Slice backwards\n",
    " - shorter/longer assignment slice\n",
    " - \n",
    "unpacking into *args\n",
    "- Whats the type (tuple to list)\n",
    "- mutliple catch all (don't work)\n",
    "sort by multi keys\n",
    "\n"
   ]
  },
  {
   "cell_type": "code",
   "execution_count": null,
   "id": "33895aa5-af90-4122-b7ef-e692099ad52c",
   "metadata": {},
   "outputs": [],
   "source": []
  },
  {
   "cell_type": "code",
   "execution_count": null,
   "id": "9752c0c1-de4e-47a8-b4ee-03405e78a643",
   "metadata": {},
   "outputs": [],
   "source": []
  },
  {
   "cell_type": "code",
   "execution_count": null,
   "id": "7048a288-9d00-490a-9bef-2cb947c6c471",
   "metadata": {},
   "outputs": [],
   "source": []
  }
 ],
 "metadata": {
  "kernelspec": {
   "display_name": "Python 3 (ipykernel)",
   "language": "python",
   "name": "python3"
  },
  "language_info": {
   "codemirror_mode": {
    "name": "ipython",
    "version": 3
   },
   "file_extension": ".py",
   "mimetype": "text/x-python",
   "name": "python",
   "nbconvert_exporter": "python",
   "pygments_lexer": "ipython3",
   "version": "3.8.13"
  }
 },
 "nbformat": 4,
 "nbformat_minor": 5
}
