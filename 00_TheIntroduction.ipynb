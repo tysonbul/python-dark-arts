{
 "cells": [
  {
   "cell_type": "markdown",
   "id": "aeebbb37-03eb-4989-87e3-bb28a73cc60d",
   "metadata": {},
   "source": [
    "# Are You Writing Effective Python?\n",
    "\n",
    "Effective Python is a book that supplies \"90 Specific Ways to Write Better Python\". \n",
    "\n",
    "In this presentation I'll be going over the interesting takeaways from the book, while also testing and challenging the audience on their Python knowledge.\n",
    "\n",
    "This talk is targeted for intermediate to advanced Python users.\n",
    "\n",
    "After this session the audience will walk away with:\n",
    "- Familiarity with language features they may not have known about\n",
    "- Interesting ways to use (and abuse) Python\n",
    "\n",
    "__Disclaimer__: While the book provides recommendations, what is covered in this talk are not exactly recommendations. They are meant to more so demonstrate the possiblities of Python for better or for worse. By knowing of these things we may easier be able to debug tough issues, or pull off the most impossible hacks to save the day at the final hour.\n",
    "\n",
    "\n",
    "## Effective Python\n",
    "\n",
    "Book link: https://g.co/kgs/gbwQXR. \n",
    "\n",
    "The book breaks it's sections into 10 Chapters:\n",
    "1. Pythonic Thinking\n",
    "1. List and Dictionaries\n",
    "1. Functions\n",
    "1. Comprehensions and Generators\n",
    "1. Classes and Interfaces\n",
    "1. Metaclasses and Attributes\n",
    "1. Concurrency and Parallelism\n",
    "1. Robustness and Performance\n",
    "1. Testing and Debugging\n",
    "1. Collaboration\n",
    "\n",
    "Each Chapter contains between 6 - 12 specific tips/recommendations on making use of Python features or working with Python in general.\n"
   ]
  },
  {
   "cell_type": "code",
   "execution_count": null,
   "id": "8c8de3e4-5a7e-4798-94b3-411b7ba8169b",
   "metadata": {},
   "outputs": [],
   "source": []
  }
 ],
 "metadata": {
  "kernelspec": {
   "display_name": "Python 3 (ipykernel)",
   "language": "python",
   "name": "python3"
  },
  "language_info": {
   "codemirror_mode": {
    "name": "ipython",
    "version": 3
   },
   "file_extension": ".py",
   "mimetype": "text/x-python",
   "name": "python",
   "nbconvert_exporter": "python",
   "pygments_lexer": "ipython3",
   "version": "3.8.13"
  }
 },
 "nbformat": 4,
 "nbformat_minor": 5
}
