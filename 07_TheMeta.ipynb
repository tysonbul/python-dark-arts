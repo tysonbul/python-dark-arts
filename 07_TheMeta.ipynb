{
 "cells": [
  {
   "cell_type": "markdown",
   "id": "ed983ae8-4b4a-4c4a-8b24-c48581b423f6",
   "metadata": {},
   "source": [
    "\\_\\_init_subclass instead of metaclass\n",
    "Can use as class register\n",
    "\n",
    "meta class bad because makes multiple inheritance really hard"
   ]
  },
  {
   "cell_type": "markdown",
   "id": "05ca14e8-d329-410c-a23e-6faae5ac5219",
   "metadata": {},
   "source": [
    "Show how things in python work like this:"
   ]
  },
  {
   "cell_type": "code",
   "execution_count": null,
   "id": "6fea05d9-cdf2-4a3c-b269-26a24bc84f16",
   "metadata": {},
   "outputs": [],
   "source": [
    "class FixedCustomer:\n",
    "    first_name = Field()\n",
    "    last_name = Field()\n",
    "    "
   ]
  },
  {
   "cell_type": "markdown",
   "id": "b7fa6fdf-fa76-4a9c-9281-1b2274e5b902",
   "metadata": {},
   "source": [
    "prefer class decorators over metaclasses for composing class extensions"
   ]
  }
 ],
 "metadata": {
  "kernelspec": {
   "display_name": "Python 3 (ipykernel)",
   "language": "python",
   "name": "python3"
  },
  "language_info": {
   "codemirror_mode": {
    "name": "ipython",
    "version": 3
   },
   "file_extension": ".py",
   "mimetype": "text/x-python",
   "name": "python",
   "nbconvert_exporter": "python",
   "pygments_lexer": "ipython3",
   "version": "3.8.13"
  }
 },
 "nbformat": 4,
 "nbformat_minor": 5
}
