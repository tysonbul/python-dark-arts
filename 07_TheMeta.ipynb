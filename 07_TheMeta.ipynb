{
 "cells": [
  {
   "cell_type": "markdown",
   "id": "ed983ae8-4b4a-4c4a-8b24-c48581b423f6",
   "metadata": {},
   "source": [
    "# Welcome to the Metaverse\n",
    "\n",
    "To truely understand the workings of Python, you'll need to be unafraid to enter the Metaverse of Python Programming and get your hands dirty with a little metaprogramming.\n",
    "\n",
    "What is metaprogramming?\n",
    "\n",
    "_The term __metaprogramming__ refers to the potential for a program to have knowledge of or manipulate itself._ - https://realpython.com/python-metaclasses/\n",
    "\n",
    "Where can I find metaprogramming?\n",
    "\n",
    "In your day to day use you'll be suprised how much meta programming you're actually using. The best example is `@dataclass`.\n",
    "\n",
    "```python\n",
    "from dataclasses import dataclass\n",
    "\n",
    "@dataclass\n",
    "def DataObject:\n",
    "    field_1: str\n",
    "    field_2: int\n",
    "```\n",
    "\n",
    "When looking at this example you have to ask what exactly is happening here? How did my class definition which contains two class attribute definitions turn into an instantiable class? Without the `@dataclass` decorator, this class would not initialize with the expected inputs.\n",
    "\n",
    "That's where the `@dataclass` decorator does some metaprogramming. It looks at your definition of the class at class definition time, reads the class attributes, and modifies/creates the constructor to create the equivalent...\n",
    "\n",
    "```python\n",
    "def DataObject:\n",
    "    def __init__(self, field_1, field_2):\n",
    "        self.field_1, self.field_2 = field_1, field_2\n",
    "    ... # plus some free extras like __repr__, etc...\n",
    "```\n"
   ]
  },
  {
   "cell_type": "markdown",
   "id": "f8b475c9-f9b1-43ec-a968-cfafd7004983",
   "metadata": {},
   "source": [
    "## A common method of metaprogramming is metaclasses\n",
    "\n",
    "Metaclasses receive a class definition and can inspect, modify, remove, or act on it as it sees fit.\n",
    "\n",
    "Let's look at a common metaclass example of a class that checks for a certain class attribute to exist in a class definition..."
   ]
  },
  {
   "cell_type": "code",
   "execution_count": 25,
   "id": "361f27f2-73e5-4062-a7af-b302c6b2c133",
   "metadata": {},
   "outputs": [],
   "source": [
    "class FriendsCheckMeta(type):\n",
    "    def __new__(meta, name, bases, class_dict):\n",
    "        print(f'* Running {meta}.__new__ for {name}')\n",
    "        print(f'Bases:', bases)\n",
    "        print(class_dict)\n",
    "        if bases:\n",
    "            if 'friends' not in class_dict or class_dict['friends'] is None:\n",
    "                raise ValueError(\"Your class needs 'friends' my dude\")\n",
    "        return type.__new__(meta, name, bases, class_dict)"
   ]
  },
  {
   "cell_type": "code",
   "execution_count": 26,
   "id": "735ed0c2-489c-40e2-bd93-fe78aff36a1c",
   "metadata": {},
   "outputs": [
    {
     "name": "stdout",
     "output_type": "stream",
     "text": [
      "* Running <class '__main__.FriendsCheckMeta'>.__new__ for MyPersonClass\n",
      "Bases: ()\n",
      "{'__module__': '__main__', '__qualname__': 'MyPersonClass', 'friends': None, 'say_hi': <function MyPersonClass.say_hi at 0x7fd3e839e310>}\n"
     ]
    }
   ],
   "source": [
    "class MyPersonClass(metaclass=FriendsCheckMeta):\n",
    "    friends = None\n",
    "    def say_hi(self):\n",
    "        print(f\"hi, my {self.friends} friends!\")"
   ]
  },
  {
   "cell_type": "code",
   "execution_count": 27,
   "id": "f4e387b1-4973-4044-897b-3fa1cebef85f",
   "metadata": {},
   "outputs": [
    {
     "name": "stdout",
     "output_type": "stream",
     "text": [
      "* Running <class '__main__.FriendsCheckMeta'>.__new__ for MyCorrectPersonClass\n",
      "Bases: (<class '__main__.MyPersonClass'>,)\n",
      "{'__module__': '__main__', '__qualname__': 'MyCorrectPersonClass', 'friends': 10}\n"
     ]
    }
   ],
   "source": [
    "class MyCorrectPersonClass(MyPersonClass):\n",
    "    friends = 10"
   ]
  },
  {
   "cell_type": "code",
   "execution_count": 28,
   "id": "b679016e-52fb-443a-b2e0-41ebb6486785",
   "metadata": {},
   "outputs": [
    {
     "name": "stdout",
     "output_type": "stream",
     "text": [
      "* Running <class '__main__.FriendsCheckMeta'>.__new__ for MyWrongClass\n",
      "Bases: (<class '__main__.MyPersonClass'>,)\n",
      "{'__module__': '__main__', '__qualname__': 'MyWrongClass', 'pals': 299}\n"
     ]
    },
    {
     "ename": "ValueError",
     "evalue": "Your class needs 'friends' my dude",
     "output_type": "error",
     "traceback": [
      "\u001b[0;31m---------------------------------------------------------------------------\u001b[0m",
      "\u001b[0;31mValueError\u001b[0m                                Traceback (most recent call last)",
      "Input \u001b[0;32mIn [28]\u001b[0m, in \u001b[0;36m<cell line: 1>\u001b[0;34m()\u001b[0m\n\u001b[0;32m----> 1\u001b[0m \u001b[38;5;28;01mclass\u001b[39;00m \u001b[38;5;21;01mMyWrongClass\u001b[39;00m(MyPersonClass):\n\u001b[1;32m      2\u001b[0m     pals \u001b[38;5;241m=\u001b[39m \u001b[38;5;241m299\u001b[39m\n",
      "Input \u001b[0;32mIn [25]\u001b[0m, in \u001b[0;36mFriendsCheckMeta.__new__\u001b[0;34m(meta, name, bases, class_dict)\u001b[0m\n\u001b[1;32m      6\u001b[0m \u001b[38;5;28;01mif\u001b[39;00m bases:\n\u001b[1;32m      7\u001b[0m     \u001b[38;5;28;01mif\u001b[39;00m \u001b[38;5;124m'\u001b[39m\u001b[38;5;124mfriends\u001b[39m\u001b[38;5;124m'\u001b[39m \u001b[38;5;129;01mnot\u001b[39;00m \u001b[38;5;129;01min\u001b[39;00m class_dict \u001b[38;5;129;01mor\u001b[39;00m class_dict[\u001b[38;5;124m'\u001b[39m\u001b[38;5;124mfriends\u001b[39m\u001b[38;5;124m'\u001b[39m] \u001b[38;5;129;01mis\u001b[39;00m \u001b[38;5;28;01mNone\u001b[39;00m:\n\u001b[0;32m----> 8\u001b[0m         \u001b[38;5;28;01mraise\u001b[39;00m \u001b[38;5;167;01mValueError\u001b[39;00m(\u001b[38;5;124m\"\u001b[39m\u001b[38;5;124mYour class needs \u001b[39m\u001b[38;5;124m'\u001b[39m\u001b[38;5;124mfriends\u001b[39m\u001b[38;5;124m'\u001b[39m\u001b[38;5;124m my dude\u001b[39m\u001b[38;5;124m\"\u001b[39m)\n\u001b[1;32m      9\u001b[0m \u001b[38;5;28;01mreturn\u001b[39;00m \u001b[38;5;28mtype\u001b[39m\u001b[38;5;241m.\u001b[39m\u001b[38;5;21m__new__\u001b[39m(meta, name, bases, class_dict)\n",
      "\u001b[0;31mValueError\u001b[0m: Your class needs 'friends' my dude"
     ]
    }
   ],
   "source": [
    "class MyWrongClass(MyPersonClass):\n",
    "    pals = 299"
   ]
  },
  {
   "cell_type": "markdown",
   "id": "1708b04a-63b4-443a-b9ed-9f86c12e3119",
   "metadata": {},
   "source": [
    "While this works, there's two main issues with it:\n",
    "1. It's pretty complicated for a simple task, and not everyone is familiar with Metaclasses\n",
    "1. Current metaclass implementation in Python limits you to only having one meta class per class definition. This really messes things up when you try multiple inheritance with another class that has a metaclass.\n",
    "\n",
    "Bonus: If you do want composable metaclasses, you might actually just need class decorators (_Item 51: Prefer Class decorators over Metaclasses for Composable Class extensions_)"
   ]
  },
  {
   "cell_type": "markdown",
   "id": "89803852-27eb-40c0-85e7-02844b6c8a02",
   "metadata": {},
   "source": [
    "## The alternative for most of your metaclass usage\n",
    "\n",
    "`__init_subclass__`"
   ]
  },
  {
   "cell_type": "code",
   "execution_count": 33,
   "id": "645d3fac-9700-4b3f-a4d6-91bc922b5f3c",
   "metadata": {},
   "outputs": [],
   "source": [
    "class MyBetterPersonClass:\n",
    "    friends = None\n",
    "    def __init_subclass__(cls):\n",
    "        super().__init_subclass__()\n",
    "        if cls.friends is None:\n",
    "            raise ValueError(\"Your class needs 'friends' my dude\")\n",
    "\n",
    "    def say_hi(self):\n",
    "        print(f\"hi, my {self.friends} friends!\")\n",
    "        "
   ]
  },
  {
   "cell_type": "code",
   "execution_count": 36,
   "id": "824f69f9-9258-47e6-ad79-f9cb2577e76d",
   "metadata": {},
   "outputs": [
    {
     "name": "stdout",
     "output_type": "stream",
     "text": [
      "hi, my 10\n"
     ]
    }
   ],
   "source": [
    "class MyCorrectPersonClass(MyPersonClass):\n",
    "    friends = 10\n",
    "\n",
    "MyCorrectPersonClass().say_hi()"
   ]
  },
  {
   "cell_type": "code",
   "execution_count": 34,
   "id": "05e278df-7633-4f50-8fa0-fb891d73e556",
   "metadata": {},
   "outputs": [
    {
     "ename": "ValueError",
     "evalue": "Your class needs 'friends' my dude",
     "output_type": "error",
     "traceback": [
      "\u001b[0;31m---------------------------------------------------------------------------\u001b[0m",
      "\u001b[0;31mValueError\u001b[0m                                Traceback (most recent call last)",
      "Input \u001b[0;32mIn [34]\u001b[0m, in \u001b[0;36m<cell line: 1>\u001b[0;34m()\u001b[0m\n\u001b[0;32m----> 1\u001b[0m \u001b[38;5;28;01mclass\u001b[39;00m \u001b[38;5;21;01mMyWrongClass\u001b[39;00m(MyBetterPersonClass):\n\u001b[1;32m      2\u001b[0m     pals \u001b[38;5;241m=\u001b[39m \u001b[38;5;241m299\u001b[39m\n",
      "Input \u001b[0;32mIn [33]\u001b[0m, in \u001b[0;36mMyBetterPersonClass.__init_subclass__\u001b[0;34m(cls)\u001b[0m\n\u001b[1;32m      4\u001b[0m \u001b[38;5;28msuper\u001b[39m()\u001b[38;5;241m.\u001b[39m__init_subclass__()\n\u001b[1;32m      5\u001b[0m \u001b[38;5;28;01mif\u001b[39;00m \u001b[38;5;28mcls\u001b[39m\u001b[38;5;241m.\u001b[39mfriends \u001b[38;5;129;01mis\u001b[39;00m \u001b[38;5;28;01mNone\u001b[39;00m:\n\u001b[0;32m----> 6\u001b[0m     \u001b[38;5;28;01mraise\u001b[39;00m \u001b[38;5;167;01mValueError\u001b[39;00m(\u001b[38;5;124m\"\u001b[39m\u001b[38;5;124mYour class needs \u001b[39m\u001b[38;5;124m'\u001b[39m\u001b[38;5;124mfriends\u001b[39m\u001b[38;5;124m'\u001b[39m\u001b[38;5;124m my dude\u001b[39m\u001b[38;5;124m\"\u001b[39m)\n",
      "\u001b[0;31mValueError\u001b[0m: Your class needs 'friends' my dude"
     ]
    }
   ],
   "source": [
    "class MyWrongClass(MyBetterPersonClass):\n",
    "    pals = 299"
   ]
  },
  {
   "cell_type": "markdown",
   "id": "05ca14e8-d329-410c-a23e-6faae5ac5219",
   "metadata": {},
   "source": [
    "## Homework: How does a library like Pydantic support the `Field` functionality?\n",
    "\n",
    "E.g: https://pydantic-docs.helpmanual.io/usage/schema/#field-customization\n",
    "\n",
    "_*Hint it involves metaprogramming._ ;)\n",
    "\n",
    "```python\n",
    "from pydantic import BaseModel, Field\n",
    "class Model(BaseModel):\n",
    "    # Here both constraints will be applied and the schema\n",
    "    # will be generated correctly\n",
    "    foo: int = Field(..., gt=0, lt=10)\n",
    "```"
   ]
  },
  {
   "cell_type": "code",
   "execution_count": null,
   "id": "49375b3e-b4ec-462c-b514-161627468900",
   "metadata": {},
   "outputs": [],
   "source": []
  }
 ],
 "metadata": {
  "kernelspec": {
   "display_name": "Python 3 (ipykernel)",
   "language": "python",
   "name": "python3"
  },
  "language_info": {
   "codemirror_mode": {
    "name": "ipython",
    "version": 3
   },
   "file_extension": ".py",
   "mimetype": "text/x-python",
   "name": "python",
   "nbconvert_exporter": "python",
   "pygments_lexer": "ipython3",
   "version": "3.8.13"
  }
 },
 "nbformat": 4,
 "nbformat_minor": 5
}
